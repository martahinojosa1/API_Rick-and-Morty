{
 "cells": [
  {
   "cell_type": "markdown",
   "metadata": {},
   "source": [
    "# Proyecto API Rick&Morty - Marta Hinojosa Jiménez"
   ]
  },
  {
   "cell_type": "markdown",
   "metadata": {},
   "source": [
    "### Importar librerías"
   ]
  },
  {
   "cell_type": "code",
   "execution_count": 1,
   "metadata": {},
   "outputs": [],
   "source": [
    "import requests \n",
    "import os\n",
    "import pandas as pd\n",
    "import numpy as np \n",
    "import plotly.express as px"
   ]
  },
  {
   "cell_type": "markdown",
   "metadata": {},
   "source": [
    "## Obtención de datos y lectura"
   ]
  },
  {
   "cell_type": "markdown",
   "metadata": {},
   "source": [
    "### Rick&Morty API (definición)\n",
    "La web \"https://rickandmortyapi.com/\" es una API (Interfaz de Programación de Aplicaciones) que proporciona acceso a datos relacionados con la serie de televisión animada \"Rick and Morty\". Esta API permite acceder a información sobre personajes, episodios, ubicaciones y más, relacionados con la serie. Los datos se proporcionan en formato JSON, lo que facilita su consumo por parte de aplicaciones y servicios web."
   ]
  },
  {
   "cell_type": "code",
   "execution_count": 2,
   "metadata": {},
   "outputs": [],
   "source": [
    "base_url = \"https://rickandmortyapi.com/api/character\""
   ]
  },
  {
   "cell_type": "markdown",
   "metadata": {},
   "source": [
    "### Crear función para obtener los datos de los personajes mediante el uso de la API"
   ]
  },
  {
   "cell_type": "code",
   "execution_count": 3,
   "metadata": {},
   "outputs": [],
   "source": [
    "def obtener_datos_personajes(base_url):\n",
    "    personajes = []  \n",
    "    i = 0  \n",
    "    while True:\n",
    "        response = requests.get(base_url, params={'page': i})       # Realizar solicitud GET a la URL base\n",
    "        datos = response.json()                                     # Extraer el contenido JSON de la respuesta\n",
    "        resultados = datos.get('results')                           # Obtener la lista de personajes de los datos\n",
    "\n",
    "        if not resultados:                                          # Si la lista de resultados está vacía, salir del bucle\n",
    "            break\n",
    "\n",
    "        personajes.extend(resultados)                               # Extender la lista de personajes con los resultados obtenidos\n",
    "        i += 1                                                      # Incrementar el contador\n",
    "\n",
    "    return personajes                                               # Devolver la lista completa de personajes"
   ]
  },
  {
   "cell_type": "markdown",
   "metadata": {},
   "source": [
    "### Obtener todos los datos (llamando a la función)"
   ]
  },
  {
   "cell_type": "code",
   "execution_count": 4,
   "metadata": {},
   "outputs": [
    {
     "name": "stdout",
     "output_type": "stream",
     "text": [
      "Primer personaje: {'id': 1, 'name': 'Rick Sanchez', 'status': 'Alive', 'species': 'Human', 'type': '', 'gender': 'Male', 'origin': {'name': 'Earth (C-137)', 'url': 'https://rickandmortyapi.com/api/location/1'}, 'location': {'name': 'Citadel of Ricks', 'url': 'https://rickandmortyapi.com/api/location/3'}, 'image': 'https://rickandmortyapi.com/api/character/avatar/1.jpeg', 'episode': ['https://rickandmortyapi.com/api/episode/1', 'https://rickandmortyapi.com/api/episode/2', 'https://rickandmortyapi.com/api/episode/3', 'https://rickandmortyapi.com/api/episode/4', 'https://rickandmortyapi.com/api/episode/5', 'https://rickandmortyapi.com/api/episode/6', 'https://rickandmortyapi.com/api/episode/7', 'https://rickandmortyapi.com/api/episode/8', 'https://rickandmortyapi.com/api/episode/9', 'https://rickandmortyapi.com/api/episode/10', 'https://rickandmortyapi.com/api/episode/11', 'https://rickandmortyapi.com/api/episode/12', 'https://rickandmortyapi.com/api/episode/13', 'https://rickandmortyapi.com/api/episode/14', 'https://rickandmortyapi.com/api/episode/15', 'https://rickandmortyapi.com/api/episode/16', 'https://rickandmortyapi.com/api/episode/17', 'https://rickandmortyapi.com/api/episode/18', 'https://rickandmortyapi.com/api/episode/19', 'https://rickandmortyapi.com/api/episode/20', 'https://rickandmortyapi.com/api/episode/21', 'https://rickandmortyapi.com/api/episode/22', 'https://rickandmortyapi.com/api/episode/23', 'https://rickandmortyapi.com/api/episode/24', 'https://rickandmortyapi.com/api/episode/25', 'https://rickandmortyapi.com/api/episode/26', 'https://rickandmortyapi.com/api/episode/27', 'https://rickandmortyapi.com/api/episode/28', 'https://rickandmortyapi.com/api/episode/29', 'https://rickandmortyapi.com/api/episode/30', 'https://rickandmortyapi.com/api/episode/31', 'https://rickandmortyapi.com/api/episode/32', 'https://rickandmortyapi.com/api/episode/33', 'https://rickandmortyapi.com/api/episode/34', 'https://rickandmortyapi.com/api/episode/35', 'https://rickandmortyapi.com/api/episode/36', 'https://rickandmortyapi.com/api/episode/37', 'https://rickandmortyapi.com/api/episode/38', 'https://rickandmortyapi.com/api/episode/39', 'https://rickandmortyapi.com/api/episode/40', 'https://rickandmortyapi.com/api/episode/41', 'https://rickandmortyapi.com/api/episode/42', 'https://rickandmortyapi.com/api/episode/43', 'https://rickandmortyapi.com/api/episode/44', 'https://rickandmortyapi.com/api/episode/45', 'https://rickandmortyapi.com/api/episode/46', 'https://rickandmortyapi.com/api/episode/47', 'https://rickandmortyapi.com/api/episode/48', 'https://rickandmortyapi.com/api/episode/49', 'https://rickandmortyapi.com/api/episode/50', 'https://rickandmortyapi.com/api/episode/51'], 'url': 'https://rickandmortyapi.com/api/character/1', 'created': '2017-11-04T18:48:46.250Z'}\n",
      "Segundo personaje: {'id': 2, 'name': 'Morty Smith', 'status': 'Alive', 'species': 'Human', 'type': '', 'gender': 'Male', 'origin': {'name': 'unknown', 'url': ''}, 'location': {'name': 'Citadel of Ricks', 'url': 'https://rickandmortyapi.com/api/location/3'}, 'image': 'https://rickandmortyapi.com/api/character/avatar/2.jpeg', 'episode': ['https://rickandmortyapi.com/api/episode/1', 'https://rickandmortyapi.com/api/episode/2', 'https://rickandmortyapi.com/api/episode/3', 'https://rickandmortyapi.com/api/episode/4', 'https://rickandmortyapi.com/api/episode/5', 'https://rickandmortyapi.com/api/episode/6', 'https://rickandmortyapi.com/api/episode/7', 'https://rickandmortyapi.com/api/episode/8', 'https://rickandmortyapi.com/api/episode/9', 'https://rickandmortyapi.com/api/episode/10', 'https://rickandmortyapi.com/api/episode/11', 'https://rickandmortyapi.com/api/episode/12', 'https://rickandmortyapi.com/api/episode/13', 'https://rickandmortyapi.com/api/episode/14', 'https://rickandmortyapi.com/api/episode/15', 'https://rickandmortyapi.com/api/episode/16', 'https://rickandmortyapi.com/api/episode/17', 'https://rickandmortyapi.com/api/episode/18', 'https://rickandmortyapi.com/api/episode/19', 'https://rickandmortyapi.com/api/episode/20', 'https://rickandmortyapi.com/api/episode/21', 'https://rickandmortyapi.com/api/episode/22', 'https://rickandmortyapi.com/api/episode/23', 'https://rickandmortyapi.com/api/episode/24', 'https://rickandmortyapi.com/api/episode/25', 'https://rickandmortyapi.com/api/episode/26', 'https://rickandmortyapi.com/api/episode/27', 'https://rickandmortyapi.com/api/episode/28', 'https://rickandmortyapi.com/api/episode/29', 'https://rickandmortyapi.com/api/episode/30', 'https://rickandmortyapi.com/api/episode/31', 'https://rickandmortyapi.com/api/episode/32', 'https://rickandmortyapi.com/api/episode/33', 'https://rickandmortyapi.com/api/episode/34', 'https://rickandmortyapi.com/api/episode/35', 'https://rickandmortyapi.com/api/episode/36', 'https://rickandmortyapi.com/api/episode/37', 'https://rickandmortyapi.com/api/episode/38', 'https://rickandmortyapi.com/api/episode/39', 'https://rickandmortyapi.com/api/episode/40', 'https://rickandmortyapi.com/api/episode/41', 'https://rickandmortyapi.com/api/episode/42', 'https://rickandmortyapi.com/api/episode/43', 'https://rickandmortyapi.com/api/episode/44', 'https://rickandmortyapi.com/api/episode/45', 'https://rickandmortyapi.com/api/episode/46', 'https://rickandmortyapi.com/api/episode/47', 'https://rickandmortyapi.com/api/episode/48', 'https://rickandmortyapi.com/api/episode/49', 'https://rickandmortyapi.com/api/episode/50', 'https://rickandmortyapi.com/api/episode/51'], 'url': 'https://rickandmortyapi.com/api/character/2', 'created': '2017-11-04T18:50:21.651Z'}\n"
     ]
    }
   ],
   "source": [
    "datos_personajes = obtener_datos_personajes(base_url)\n",
    "\n",
    "# Compruebo la función con los dos primeros personajes\n",
    "print(\"Primer personaje:\", datos_personajes[0])\n",
    "print(\"Segundo personaje:\", datos_personajes[1])\n"
   ]
  },
  {
   "cell_type": "markdown",
   "metadata": {},
   "source": [
    "### Crear DataFrame con Pandas (df)"
   ]
  },
  {
   "cell_type": "code",
   "execution_count": 5,
   "metadata": {},
   "outputs": [],
   "source": [
    "df = pd.DataFrame(obtener_datos_personajes(base_url))"
   ]
  },
  {
   "cell_type": "code",
   "execution_count": 6,
   "metadata": {},
   "outputs": [
    {
     "data": {
      "text/html": [
       "<div>\n",
       "<style scoped>\n",
       "    .dataframe tbody tr th:only-of-type {\n",
       "        vertical-align: middle;\n",
       "    }\n",
       "\n",
       "    .dataframe tbody tr th {\n",
       "        vertical-align: top;\n",
       "    }\n",
       "\n",
       "    .dataframe thead th {\n",
       "        text-align: right;\n",
       "    }\n",
       "</style>\n",
       "<table border=\"1\" class=\"dataframe\">\n",
       "  <thead>\n",
       "    <tr style=\"text-align: right;\">\n",
       "      <th></th>\n",
       "      <th>id</th>\n",
       "      <th>name</th>\n",
       "      <th>status</th>\n",
       "      <th>species</th>\n",
       "      <th>type</th>\n",
       "      <th>gender</th>\n",
       "      <th>origin</th>\n",
       "      <th>location</th>\n",
       "      <th>image</th>\n",
       "      <th>episode</th>\n",
       "      <th>url</th>\n",
       "      <th>created</th>\n",
       "    </tr>\n",
       "  </thead>\n",
       "  <tbody>\n",
       "    <tr>\n",
       "      <th>0</th>\n",
       "      <td>1</td>\n",
       "      <td>Rick Sanchez</td>\n",
       "      <td>Alive</td>\n",
       "      <td>Human</td>\n",
       "      <td></td>\n",
       "      <td>Male</td>\n",
       "      <td>{'name': 'Earth (C-137)', 'url': 'https://rick...</td>\n",
       "      <td>{'name': 'Citadel of Ricks', 'url': 'https://r...</td>\n",
       "      <td>https://rickandmortyapi.com/api/character/avat...</td>\n",
       "      <td>[https://rickandmortyapi.com/api/episode/1, ht...</td>\n",
       "      <td>https://rickandmortyapi.com/api/character/1</td>\n",
       "      <td>2017-11-04T18:48:46.250Z</td>\n",
       "    </tr>\n",
       "    <tr>\n",
       "      <th>1</th>\n",
       "      <td>2</td>\n",
       "      <td>Morty Smith</td>\n",
       "      <td>Alive</td>\n",
       "      <td>Human</td>\n",
       "      <td></td>\n",
       "      <td>Male</td>\n",
       "      <td>{'name': 'unknown', 'url': ''}</td>\n",
       "      <td>{'name': 'Citadel of Ricks', 'url': 'https://r...</td>\n",
       "      <td>https://rickandmortyapi.com/api/character/avat...</td>\n",
       "      <td>[https://rickandmortyapi.com/api/episode/1, ht...</td>\n",
       "      <td>https://rickandmortyapi.com/api/character/2</td>\n",
       "      <td>2017-11-04T18:50:21.651Z</td>\n",
       "    </tr>\n",
       "    <tr>\n",
       "      <th>2</th>\n",
       "      <td>3</td>\n",
       "      <td>Summer Smith</td>\n",
       "      <td>Alive</td>\n",
       "      <td>Human</td>\n",
       "      <td></td>\n",
       "      <td>Female</td>\n",
       "      <td>{'name': 'Earth (Replacement Dimension)', 'url...</td>\n",
       "      <td>{'name': 'Earth (Replacement Dimension)', 'url...</td>\n",
       "      <td>https://rickandmortyapi.com/api/character/avat...</td>\n",
       "      <td>[https://rickandmortyapi.com/api/episode/6, ht...</td>\n",
       "      <td>https://rickandmortyapi.com/api/character/3</td>\n",
       "      <td>2017-11-04T19:09:56.428Z</td>\n",
       "    </tr>\n",
       "    <tr>\n",
       "      <th>3</th>\n",
       "      <td>4</td>\n",
       "      <td>Beth Smith</td>\n",
       "      <td>Alive</td>\n",
       "      <td>Human</td>\n",
       "      <td></td>\n",
       "      <td>Female</td>\n",
       "      <td>{'name': 'Earth (Replacement Dimension)', 'url...</td>\n",
       "      <td>{'name': 'Earth (Replacement Dimension)', 'url...</td>\n",
       "      <td>https://rickandmortyapi.com/api/character/avat...</td>\n",
       "      <td>[https://rickandmortyapi.com/api/episode/6, ht...</td>\n",
       "      <td>https://rickandmortyapi.com/api/character/4</td>\n",
       "      <td>2017-11-04T19:22:43.665Z</td>\n",
       "    </tr>\n",
       "    <tr>\n",
       "      <th>4</th>\n",
       "      <td>5</td>\n",
       "      <td>Jerry Smith</td>\n",
       "      <td>Alive</td>\n",
       "      <td>Human</td>\n",
       "      <td></td>\n",
       "      <td>Male</td>\n",
       "      <td>{'name': 'Earth (Replacement Dimension)', 'url...</td>\n",
       "      <td>{'name': 'Earth (Replacement Dimension)', 'url...</td>\n",
       "      <td>https://rickandmortyapi.com/api/character/avat...</td>\n",
       "      <td>[https://rickandmortyapi.com/api/episode/6, ht...</td>\n",
       "      <td>https://rickandmortyapi.com/api/character/5</td>\n",
       "      <td>2017-11-04T19:26:56.301Z</td>\n",
       "    </tr>\n",
       "    <tr>\n",
       "      <th>...</th>\n",
       "      <td>...</td>\n",
       "      <td>...</td>\n",
       "      <td>...</td>\n",
       "      <td>...</td>\n",
       "      <td>...</td>\n",
       "      <td>...</td>\n",
       "      <td>...</td>\n",
       "      <td>...</td>\n",
       "      <td>...</td>\n",
       "      <td>...</td>\n",
       "      <td>...</td>\n",
       "      <td>...</td>\n",
       "    </tr>\n",
       "    <tr>\n",
       "      <th>841</th>\n",
       "      <td>822</td>\n",
       "      <td>Young Jerry</td>\n",
       "      <td>unknown</td>\n",
       "      <td>Human</td>\n",
       "      <td></td>\n",
       "      <td>Male</td>\n",
       "      <td>{'name': 'Earth (Unknown dimension)', 'url': '...</td>\n",
       "      <td>{'name': 'Earth (Unknown dimension)', 'url': '...</td>\n",
       "      <td>https://rickandmortyapi.com/api/character/avat...</td>\n",
       "      <td>[https://rickandmortyapi.com/api/episode/51]</td>\n",
       "      <td>https://rickandmortyapi.com/api/character/822</td>\n",
       "      <td>2021-11-02T17:18:31.934Z</td>\n",
       "    </tr>\n",
       "    <tr>\n",
       "      <th>842</th>\n",
       "      <td>823</td>\n",
       "      <td>Young Beth</td>\n",
       "      <td>unknown</td>\n",
       "      <td>Human</td>\n",
       "      <td></td>\n",
       "      <td>Female</td>\n",
       "      <td>{'name': 'Earth (Unknown dimension)', 'url': '...</td>\n",
       "      <td>{'name': 'Earth (Unknown dimension)', 'url': '...</td>\n",
       "      <td>https://rickandmortyapi.com/api/character/avat...</td>\n",
       "      <td>[https://rickandmortyapi.com/api/episode/51]</td>\n",
       "      <td>https://rickandmortyapi.com/api/character/823</td>\n",
       "      <td>2021-11-02T17:19:00.951Z</td>\n",
       "    </tr>\n",
       "    <tr>\n",
       "      <th>843</th>\n",
       "      <td>824</td>\n",
       "      <td>Young Beth</td>\n",
       "      <td>unknown</td>\n",
       "      <td>Human</td>\n",
       "      <td></td>\n",
       "      <td>Female</td>\n",
       "      <td>{'name': 'Earth (Unknown dimension)', 'url': '...</td>\n",
       "      <td>{'name': 'Earth (Unknown dimension)', 'url': '...</td>\n",
       "      <td>https://rickandmortyapi.com/api/character/avat...</td>\n",
       "      <td>[https://rickandmortyapi.com/api/episode/51]</td>\n",
       "      <td>https://rickandmortyapi.com/api/character/824</td>\n",
       "      <td>2021-11-02T17:19:47.957Z</td>\n",
       "    </tr>\n",
       "    <tr>\n",
       "      <th>844</th>\n",
       "      <td>825</td>\n",
       "      <td>Young Jerry</td>\n",
       "      <td>unknown</td>\n",
       "      <td>Human</td>\n",
       "      <td></td>\n",
       "      <td>Male</td>\n",
       "      <td>{'name': 'Earth (Unknown dimension)', 'url': '...</td>\n",
       "      <td>{'name': 'Earth (Unknown dimension)', 'url': '...</td>\n",
       "      <td>https://rickandmortyapi.com/api/character/avat...</td>\n",
       "      <td>[https://rickandmortyapi.com/api/episode/51]</td>\n",
       "      <td>https://rickandmortyapi.com/api/character/825</td>\n",
       "      <td>2021-11-02T17:20:14.305Z</td>\n",
       "    </tr>\n",
       "    <tr>\n",
       "      <th>845</th>\n",
       "      <td>826</td>\n",
       "      <td>Butter Robot</td>\n",
       "      <td>Alive</td>\n",
       "      <td>Robot</td>\n",
       "      <td>Passing Butter Robot</td>\n",
       "      <td>Genderless</td>\n",
       "      <td>{'name': 'Earth (Replacement Dimension)', 'url...</td>\n",
       "      <td>{'name': 'Earth (Replacement Dimension)', 'url...</td>\n",
       "      <td>https://rickandmortyapi.com/api/character/avat...</td>\n",
       "      <td>[https://rickandmortyapi.com/api/episode/9]</td>\n",
       "      <td>https://rickandmortyapi.com/api/character/826</td>\n",
       "      <td>2021-11-02T17:24:37.458Z</td>\n",
       "    </tr>\n",
       "  </tbody>\n",
       "</table>\n",
       "<p>846 rows × 12 columns</p>\n",
       "</div>"
      ],
      "text/plain": [
       "      id          name   status species                  type      gender  \\\n",
       "0      1  Rick Sanchez    Alive   Human                              Male   \n",
       "1      2   Morty Smith    Alive   Human                              Male   \n",
       "2      3  Summer Smith    Alive   Human                            Female   \n",
       "3      4    Beth Smith    Alive   Human                            Female   \n",
       "4      5   Jerry Smith    Alive   Human                              Male   \n",
       "..   ...           ...      ...     ...                   ...         ...   \n",
       "841  822   Young Jerry  unknown   Human                              Male   \n",
       "842  823    Young Beth  unknown   Human                            Female   \n",
       "843  824    Young Beth  unknown   Human                            Female   \n",
       "844  825   Young Jerry  unknown   Human                              Male   \n",
       "845  826  Butter Robot    Alive   Robot  Passing Butter Robot  Genderless   \n",
       "\n",
       "                                                origin  \\\n",
       "0    {'name': 'Earth (C-137)', 'url': 'https://rick...   \n",
       "1                       {'name': 'unknown', 'url': ''}   \n",
       "2    {'name': 'Earth (Replacement Dimension)', 'url...   \n",
       "3    {'name': 'Earth (Replacement Dimension)', 'url...   \n",
       "4    {'name': 'Earth (Replacement Dimension)', 'url...   \n",
       "..                                                 ...   \n",
       "841  {'name': 'Earth (Unknown dimension)', 'url': '...   \n",
       "842  {'name': 'Earth (Unknown dimension)', 'url': '...   \n",
       "843  {'name': 'Earth (Unknown dimension)', 'url': '...   \n",
       "844  {'name': 'Earth (Unknown dimension)', 'url': '...   \n",
       "845  {'name': 'Earth (Replacement Dimension)', 'url...   \n",
       "\n",
       "                                              location  \\\n",
       "0    {'name': 'Citadel of Ricks', 'url': 'https://r...   \n",
       "1    {'name': 'Citadel of Ricks', 'url': 'https://r...   \n",
       "2    {'name': 'Earth (Replacement Dimension)', 'url...   \n",
       "3    {'name': 'Earth (Replacement Dimension)', 'url...   \n",
       "4    {'name': 'Earth (Replacement Dimension)', 'url...   \n",
       "..                                                 ...   \n",
       "841  {'name': 'Earth (Unknown dimension)', 'url': '...   \n",
       "842  {'name': 'Earth (Unknown dimension)', 'url': '...   \n",
       "843  {'name': 'Earth (Unknown dimension)', 'url': '...   \n",
       "844  {'name': 'Earth (Unknown dimension)', 'url': '...   \n",
       "845  {'name': 'Earth (Replacement Dimension)', 'url...   \n",
       "\n",
       "                                                 image  \\\n",
       "0    https://rickandmortyapi.com/api/character/avat...   \n",
       "1    https://rickandmortyapi.com/api/character/avat...   \n",
       "2    https://rickandmortyapi.com/api/character/avat...   \n",
       "3    https://rickandmortyapi.com/api/character/avat...   \n",
       "4    https://rickandmortyapi.com/api/character/avat...   \n",
       "..                                                 ...   \n",
       "841  https://rickandmortyapi.com/api/character/avat...   \n",
       "842  https://rickandmortyapi.com/api/character/avat...   \n",
       "843  https://rickandmortyapi.com/api/character/avat...   \n",
       "844  https://rickandmortyapi.com/api/character/avat...   \n",
       "845  https://rickandmortyapi.com/api/character/avat...   \n",
       "\n",
       "                                               episode  \\\n",
       "0    [https://rickandmortyapi.com/api/episode/1, ht...   \n",
       "1    [https://rickandmortyapi.com/api/episode/1, ht...   \n",
       "2    [https://rickandmortyapi.com/api/episode/6, ht...   \n",
       "3    [https://rickandmortyapi.com/api/episode/6, ht...   \n",
       "4    [https://rickandmortyapi.com/api/episode/6, ht...   \n",
       "..                                                 ...   \n",
       "841       [https://rickandmortyapi.com/api/episode/51]   \n",
       "842       [https://rickandmortyapi.com/api/episode/51]   \n",
       "843       [https://rickandmortyapi.com/api/episode/51]   \n",
       "844       [https://rickandmortyapi.com/api/episode/51]   \n",
       "845        [https://rickandmortyapi.com/api/episode/9]   \n",
       "\n",
       "                                               url                   created  \n",
       "0      https://rickandmortyapi.com/api/character/1  2017-11-04T18:48:46.250Z  \n",
       "1      https://rickandmortyapi.com/api/character/2  2017-11-04T18:50:21.651Z  \n",
       "2      https://rickandmortyapi.com/api/character/3  2017-11-04T19:09:56.428Z  \n",
       "3      https://rickandmortyapi.com/api/character/4  2017-11-04T19:22:43.665Z  \n",
       "4      https://rickandmortyapi.com/api/character/5  2017-11-04T19:26:56.301Z  \n",
       "..                                             ...                       ...  \n",
       "841  https://rickandmortyapi.com/api/character/822  2021-11-02T17:18:31.934Z  \n",
       "842  https://rickandmortyapi.com/api/character/823  2021-11-02T17:19:00.951Z  \n",
       "843  https://rickandmortyapi.com/api/character/824  2021-11-02T17:19:47.957Z  \n",
       "844  https://rickandmortyapi.com/api/character/825  2021-11-02T17:20:14.305Z  \n",
       "845  https://rickandmortyapi.com/api/character/826  2021-11-02T17:24:37.458Z  \n",
       "\n",
       "[846 rows x 12 columns]"
      ]
     },
     "execution_count": 6,
     "metadata": {},
     "output_type": "execute_result"
    }
   ],
   "source": [
    "df"
   ]
  },
  {
   "cell_type": "code",
   "execution_count": 7,
   "metadata": {},
   "outputs": [
    {
     "data": {
      "text/plain": [
       "(846, 12)"
      ]
     },
     "execution_count": 7,
     "metadata": {},
     "output_type": "execute_result"
    }
   ],
   "source": [
    "# Consultar filas y columnas del df\n",
    "df.shape"
   ]
  },
  {
   "cell_type": "code",
   "execution_count": 8,
   "metadata": {},
   "outputs": [],
   "source": [
    "# Guardar df como archivo .csv con el nombre 'rick_morty'\n",
    "df.to_csv('rick_morty.csv', index=False)"
   ]
  },
  {
   "cell_type": "code",
   "execution_count": 9,
   "metadata": {},
   "outputs": [
    {
     "data": {
      "text/plain": [
       "0      {'name': 'Earth (C-137)', 'url': 'https://rick...\n",
       "1                         {'name': 'unknown', 'url': ''}\n",
       "2      {'name': 'Earth (Replacement Dimension)', 'url...\n",
       "3      {'name': 'Earth (Replacement Dimension)', 'url...\n",
       "4      {'name': 'Earth (Replacement Dimension)', 'url...\n",
       "                             ...                        \n",
       "841    {'name': 'Earth (Unknown dimension)', 'url': '...\n",
       "842    {'name': 'Earth (Unknown dimension)', 'url': '...\n",
       "843    {'name': 'Earth (Unknown dimension)', 'url': '...\n",
       "844    {'name': 'Earth (Unknown dimension)', 'url': '...\n",
       "845    {'name': 'Earth (Replacement Dimension)', 'url...\n",
       "Name: origin, Length: 846, dtype: object"
      ]
     },
     "execution_count": 9,
     "metadata": {},
     "output_type": "execute_result"
    }
   ],
   "source": [
    "df['origin']"
   ]
  },
  {
   "cell_type": "code",
   "execution_count": 10,
   "metadata": {},
   "outputs": [
    {
     "name": "stdout",
     "output_type": "stream",
     "text": [
      "{'name': 'Earth (C-137)', 'url': 'https://rickandmortyapi.com/api/location/1'}\n"
     ]
    }
   ],
   "source": [
    "contenido_celda = df.iloc[0, 6]\n",
    "print(contenido_celda)"
   ]
  },
  {
   "cell_type": "markdown",
   "metadata": {},
   "source": [
    "## Limpieza y procesamiento de datos"
   ]
  },
  {
   "cell_type": "markdown",
   "metadata": {},
   "source": [
    "### Limpieza columnas ['origin'] y ['location']"
   ]
  },
  {
   "cell_type": "code",
   "execution_count": 11,
   "metadata": {},
   "outputs": [],
   "source": [
    "# Función lambda para limpiar la columna 'origin'\n",
    "df['origin'] = df['origin'].apply(lambda x: x['name'])   # .apply() en pandas se utiliza para aplicar una función a cada elemento de una Serie (columna) "
   ]
  },
  {
   "cell_type": "code",
   "execution_count": 12,
   "metadata": {},
   "outputs": [],
   "source": [
    "# Misma dinámica para columna ['location']\n",
    "df['location'] = df['location'].apply(lambda x: x['name'])"
   ]
  },
  {
   "cell_type": "code",
   "execution_count": 13,
   "metadata": {},
   "outputs": [
    {
     "data": {
      "text/html": [
       "<div>\n",
       "<style scoped>\n",
       "    .dataframe tbody tr th:only-of-type {\n",
       "        vertical-align: middle;\n",
       "    }\n",
       "\n",
       "    .dataframe tbody tr th {\n",
       "        vertical-align: top;\n",
       "    }\n",
       "\n",
       "    .dataframe thead th {\n",
       "        text-align: right;\n",
       "    }\n",
       "</style>\n",
       "<table border=\"1\" class=\"dataframe\">\n",
       "  <thead>\n",
       "    <tr style=\"text-align: right;\">\n",
       "      <th></th>\n",
       "      <th>id</th>\n",
       "      <th>name</th>\n",
       "      <th>status</th>\n",
       "      <th>species</th>\n",
       "      <th>type</th>\n",
       "      <th>gender</th>\n",
       "      <th>origin</th>\n",
       "      <th>location</th>\n",
       "      <th>image</th>\n",
       "      <th>episode</th>\n",
       "      <th>url</th>\n",
       "      <th>created</th>\n",
       "    </tr>\n",
       "  </thead>\n",
       "  <tbody>\n",
       "    <tr>\n",
       "      <th>0</th>\n",
       "      <td>1</td>\n",
       "      <td>Rick Sanchez</td>\n",
       "      <td>Alive</td>\n",
       "      <td>Human</td>\n",
       "      <td></td>\n",
       "      <td>Male</td>\n",
       "      <td>Earth (C-137)</td>\n",
       "      <td>Citadel of Ricks</td>\n",
       "      <td>https://rickandmortyapi.com/api/character/avat...</td>\n",
       "      <td>[https://rickandmortyapi.com/api/episode/1, ht...</td>\n",
       "      <td>https://rickandmortyapi.com/api/character/1</td>\n",
       "      <td>2017-11-04T18:48:46.250Z</td>\n",
       "    </tr>\n",
       "    <tr>\n",
       "      <th>1</th>\n",
       "      <td>2</td>\n",
       "      <td>Morty Smith</td>\n",
       "      <td>Alive</td>\n",
       "      <td>Human</td>\n",
       "      <td></td>\n",
       "      <td>Male</td>\n",
       "      <td>unknown</td>\n",
       "      <td>Citadel of Ricks</td>\n",
       "      <td>https://rickandmortyapi.com/api/character/avat...</td>\n",
       "      <td>[https://rickandmortyapi.com/api/episode/1, ht...</td>\n",
       "      <td>https://rickandmortyapi.com/api/character/2</td>\n",
       "      <td>2017-11-04T18:50:21.651Z</td>\n",
       "    </tr>\n",
       "    <tr>\n",
       "      <th>2</th>\n",
       "      <td>3</td>\n",
       "      <td>Summer Smith</td>\n",
       "      <td>Alive</td>\n",
       "      <td>Human</td>\n",
       "      <td></td>\n",
       "      <td>Female</td>\n",
       "      <td>Earth (Replacement Dimension)</td>\n",
       "      <td>Earth (Replacement Dimension)</td>\n",
       "      <td>https://rickandmortyapi.com/api/character/avat...</td>\n",
       "      <td>[https://rickandmortyapi.com/api/episode/6, ht...</td>\n",
       "      <td>https://rickandmortyapi.com/api/character/3</td>\n",
       "      <td>2017-11-04T19:09:56.428Z</td>\n",
       "    </tr>\n",
       "    <tr>\n",
       "      <th>3</th>\n",
       "      <td>4</td>\n",
       "      <td>Beth Smith</td>\n",
       "      <td>Alive</td>\n",
       "      <td>Human</td>\n",
       "      <td></td>\n",
       "      <td>Female</td>\n",
       "      <td>Earth (Replacement Dimension)</td>\n",
       "      <td>Earth (Replacement Dimension)</td>\n",
       "      <td>https://rickandmortyapi.com/api/character/avat...</td>\n",
       "      <td>[https://rickandmortyapi.com/api/episode/6, ht...</td>\n",
       "      <td>https://rickandmortyapi.com/api/character/4</td>\n",
       "      <td>2017-11-04T19:22:43.665Z</td>\n",
       "    </tr>\n",
       "    <tr>\n",
       "      <th>4</th>\n",
       "      <td>5</td>\n",
       "      <td>Jerry Smith</td>\n",
       "      <td>Alive</td>\n",
       "      <td>Human</td>\n",
       "      <td></td>\n",
       "      <td>Male</td>\n",
       "      <td>Earth (Replacement Dimension)</td>\n",
       "      <td>Earth (Replacement Dimension)</td>\n",
       "      <td>https://rickandmortyapi.com/api/character/avat...</td>\n",
       "      <td>[https://rickandmortyapi.com/api/episode/6, ht...</td>\n",
       "      <td>https://rickandmortyapi.com/api/character/5</td>\n",
       "      <td>2017-11-04T19:26:56.301Z</td>\n",
       "    </tr>\n",
       "  </tbody>\n",
       "</table>\n",
       "</div>"
      ],
      "text/plain": [
       "   id          name status species type  gender  \\\n",
       "0   1  Rick Sanchez  Alive   Human         Male   \n",
       "1   2   Morty Smith  Alive   Human         Male   \n",
       "2   3  Summer Smith  Alive   Human       Female   \n",
       "3   4    Beth Smith  Alive   Human       Female   \n",
       "4   5   Jerry Smith  Alive   Human         Male   \n",
       "\n",
       "                          origin                       location  \\\n",
       "0                  Earth (C-137)               Citadel of Ricks   \n",
       "1                        unknown               Citadel of Ricks   \n",
       "2  Earth (Replacement Dimension)  Earth (Replacement Dimension)   \n",
       "3  Earth (Replacement Dimension)  Earth (Replacement Dimension)   \n",
       "4  Earth (Replacement Dimension)  Earth (Replacement Dimension)   \n",
       "\n",
       "                                               image  \\\n",
       "0  https://rickandmortyapi.com/api/character/avat...   \n",
       "1  https://rickandmortyapi.com/api/character/avat...   \n",
       "2  https://rickandmortyapi.com/api/character/avat...   \n",
       "3  https://rickandmortyapi.com/api/character/avat...   \n",
       "4  https://rickandmortyapi.com/api/character/avat...   \n",
       "\n",
       "                                             episode  \\\n",
       "0  [https://rickandmortyapi.com/api/episode/1, ht...   \n",
       "1  [https://rickandmortyapi.com/api/episode/1, ht...   \n",
       "2  [https://rickandmortyapi.com/api/episode/6, ht...   \n",
       "3  [https://rickandmortyapi.com/api/episode/6, ht...   \n",
       "4  [https://rickandmortyapi.com/api/episode/6, ht...   \n",
       "\n",
       "                                           url                   created  \n",
       "0  https://rickandmortyapi.com/api/character/1  2017-11-04T18:48:46.250Z  \n",
       "1  https://rickandmortyapi.com/api/character/2  2017-11-04T18:50:21.651Z  \n",
       "2  https://rickandmortyapi.com/api/character/3  2017-11-04T19:09:56.428Z  \n",
       "3  https://rickandmortyapi.com/api/character/4  2017-11-04T19:22:43.665Z  \n",
       "4  https://rickandmortyapi.com/api/character/5  2017-11-04T19:26:56.301Z  "
      ]
     },
     "execution_count": 13,
     "metadata": {},
     "output_type": "execute_result"
    }
   ],
   "source": [
    "# Compruebo que se ha corregido en ambas columnas\n",
    "df.head()"
   ]
  },
  {
   "cell_type": "markdown",
   "metadata": {},
   "source": [
    "### Eliminar 3 columnas que no me sirven"
   ]
  },
  {
   "cell_type": "code",
   "execution_count": 14,
   "metadata": {},
   "outputs": [],
   "source": [
    "# Eliminar las columnas ['image'], ['url'] y ['created'] \n",
    "df = df.drop(columns=['image', 'url', 'created'])"
   ]
  },
  {
   "cell_type": "code",
   "execution_count": 15,
   "metadata": {},
   "outputs": [
    {
     "data": {
      "text/html": [
       "<div>\n",
       "<style scoped>\n",
       "    .dataframe tbody tr th:only-of-type {\n",
       "        vertical-align: middle;\n",
       "    }\n",
       "\n",
       "    .dataframe tbody tr th {\n",
       "        vertical-align: top;\n",
       "    }\n",
       "\n",
       "    .dataframe thead th {\n",
       "        text-align: right;\n",
       "    }\n",
       "</style>\n",
       "<table border=\"1\" class=\"dataframe\">\n",
       "  <thead>\n",
       "    <tr style=\"text-align: right;\">\n",
       "      <th></th>\n",
       "      <th>id</th>\n",
       "      <th>name</th>\n",
       "      <th>status</th>\n",
       "      <th>species</th>\n",
       "      <th>type</th>\n",
       "      <th>gender</th>\n",
       "      <th>origin</th>\n",
       "      <th>location</th>\n",
       "      <th>episode</th>\n",
       "    </tr>\n",
       "  </thead>\n",
       "  <tbody>\n",
       "    <tr>\n",
       "      <th>0</th>\n",
       "      <td>1</td>\n",
       "      <td>Rick Sanchez</td>\n",
       "      <td>Alive</td>\n",
       "      <td>Human</td>\n",
       "      <td></td>\n",
       "      <td>Male</td>\n",
       "      <td>Earth (C-137)</td>\n",
       "      <td>Citadel of Ricks</td>\n",
       "      <td>[https://rickandmortyapi.com/api/episode/1, ht...</td>\n",
       "    </tr>\n",
       "    <tr>\n",
       "      <th>1</th>\n",
       "      <td>2</td>\n",
       "      <td>Morty Smith</td>\n",
       "      <td>Alive</td>\n",
       "      <td>Human</td>\n",
       "      <td></td>\n",
       "      <td>Male</td>\n",
       "      <td>unknown</td>\n",
       "      <td>Citadel of Ricks</td>\n",
       "      <td>[https://rickandmortyapi.com/api/episode/1, ht...</td>\n",
       "    </tr>\n",
       "    <tr>\n",
       "      <th>2</th>\n",
       "      <td>3</td>\n",
       "      <td>Summer Smith</td>\n",
       "      <td>Alive</td>\n",
       "      <td>Human</td>\n",
       "      <td></td>\n",
       "      <td>Female</td>\n",
       "      <td>Earth (Replacement Dimension)</td>\n",
       "      <td>Earth (Replacement Dimension)</td>\n",
       "      <td>[https://rickandmortyapi.com/api/episode/6, ht...</td>\n",
       "    </tr>\n",
       "    <tr>\n",
       "      <th>3</th>\n",
       "      <td>4</td>\n",
       "      <td>Beth Smith</td>\n",
       "      <td>Alive</td>\n",
       "      <td>Human</td>\n",
       "      <td></td>\n",
       "      <td>Female</td>\n",
       "      <td>Earth (Replacement Dimension)</td>\n",
       "      <td>Earth (Replacement Dimension)</td>\n",
       "      <td>[https://rickandmortyapi.com/api/episode/6, ht...</td>\n",
       "    </tr>\n",
       "    <tr>\n",
       "      <th>4</th>\n",
       "      <td>5</td>\n",
       "      <td>Jerry Smith</td>\n",
       "      <td>Alive</td>\n",
       "      <td>Human</td>\n",
       "      <td></td>\n",
       "      <td>Male</td>\n",
       "      <td>Earth (Replacement Dimension)</td>\n",
       "      <td>Earth (Replacement Dimension)</td>\n",
       "      <td>[https://rickandmortyapi.com/api/episode/6, ht...</td>\n",
       "    </tr>\n",
       "  </tbody>\n",
       "</table>\n",
       "</div>"
      ],
      "text/plain": [
       "   id          name status species type  gender  \\\n",
       "0   1  Rick Sanchez  Alive   Human         Male   \n",
       "1   2   Morty Smith  Alive   Human         Male   \n",
       "2   3  Summer Smith  Alive   Human       Female   \n",
       "3   4    Beth Smith  Alive   Human       Female   \n",
       "4   5   Jerry Smith  Alive   Human         Male   \n",
       "\n",
       "                          origin                       location  \\\n",
       "0                  Earth (C-137)               Citadel of Ricks   \n",
       "1                        unknown               Citadel of Ricks   \n",
       "2  Earth (Replacement Dimension)  Earth (Replacement Dimension)   \n",
       "3  Earth (Replacement Dimension)  Earth (Replacement Dimension)   \n",
       "4  Earth (Replacement Dimension)  Earth (Replacement Dimension)   \n",
       "\n",
       "                                             episode  \n",
       "0  [https://rickandmortyapi.com/api/episode/1, ht...  \n",
       "1  [https://rickandmortyapi.com/api/episode/1, ht...  \n",
       "2  [https://rickandmortyapi.com/api/episode/6, ht...  \n",
       "3  [https://rickandmortyapi.com/api/episode/6, ht...  \n",
       "4  [https://rickandmortyapi.com/api/episode/6, ht...  "
      ]
     },
     "execution_count": 15,
     "metadata": {},
     "output_type": "execute_result"
    }
   ],
   "source": [
    "df.head()"
   ]
  },
  {
   "cell_type": "markdown",
   "metadata": {},
   "source": [
    "### Modificar forma del contenido en la columna ['episode']"
   ]
  },
  {
   "cell_type": "code",
   "execution_count": 16,
   "metadata": {},
   "outputs": [
    {
     "name": "stdout",
     "output_type": "stream",
     "text": [
      "['https://rickandmortyapi.com/api/episode/1', 'https://rickandmortyapi.com/api/episode/2', 'https://rickandmortyapi.com/api/episode/3', 'https://rickandmortyapi.com/api/episode/4', 'https://rickandmortyapi.com/api/episode/5', 'https://rickandmortyapi.com/api/episode/6', 'https://rickandmortyapi.com/api/episode/7', 'https://rickandmortyapi.com/api/episode/8', 'https://rickandmortyapi.com/api/episode/9', 'https://rickandmortyapi.com/api/episode/10', 'https://rickandmortyapi.com/api/episode/11', 'https://rickandmortyapi.com/api/episode/12', 'https://rickandmortyapi.com/api/episode/13', 'https://rickandmortyapi.com/api/episode/14', 'https://rickandmortyapi.com/api/episode/15', 'https://rickandmortyapi.com/api/episode/16', 'https://rickandmortyapi.com/api/episode/17', 'https://rickandmortyapi.com/api/episode/18', 'https://rickandmortyapi.com/api/episode/19', 'https://rickandmortyapi.com/api/episode/20', 'https://rickandmortyapi.com/api/episode/21', 'https://rickandmortyapi.com/api/episode/22', 'https://rickandmortyapi.com/api/episode/23', 'https://rickandmortyapi.com/api/episode/24', 'https://rickandmortyapi.com/api/episode/25', 'https://rickandmortyapi.com/api/episode/26', 'https://rickandmortyapi.com/api/episode/27', 'https://rickandmortyapi.com/api/episode/28', 'https://rickandmortyapi.com/api/episode/29', 'https://rickandmortyapi.com/api/episode/30', 'https://rickandmortyapi.com/api/episode/31', 'https://rickandmortyapi.com/api/episode/32', 'https://rickandmortyapi.com/api/episode/33', 'https://rickandmortyapi.com/api/episode/34', 'https://rickandmortyapi.com/api/episode/35', 'https://rickandmortyapi.com/api/episode/36', 'https://rickandmortyapi.com/api/episode/37', 'https://rickandmortyapi.com/api/episode/38', 'https://rickandmortyapi.com/api/episode/39', 'https://rickandmortyapi.com/api/episode/40', 'https://rickandmortyapi.com/api/episode/41', 'https://rickandmortyapi.com/api/episode/42', 'https://rickandmortyapi.com/api/episode/43', 'https://rickandmortyapi.com/api/episode/44', 'https://rickandmortyapi.com/api/episode/45', 'https://rickandmortyapi.com/api/episode/46', 'https://rickandmortyapi.com/api/episode/47', 'https://rickandmortyapi.com/api/episode/48', 'https://rickandmortyapi.com/api/episode/49', 'https://rickandmortyapi.com/api/episode/50', 'https://rickandmortyapi.com/api/episode/51']\n"
     ]
    }
   ],
   "source": [
    "# Ver contenido completo en primera celda de columna ['episode']\n",
    "contenido_celda_episode = df.iloc[0, 8]\n",
    "print(contenido_celda_episode)\n",
    "\n",
    "# Devuelve una lista con todos los enlaces de cada episodio y una numeración al final \n",
    "# Lo voy a reducir para que devuelva una lista solo con la numeración [1,2,3,...]"
   ]
  },
  {
   "cell_type": "code",
   "execution_count": 17,
   "metadata": {},
   "outputs": [],
   "source": [
    "# Con una función lambda divido el string del contenido por las / y selecciono el último elemento\n",
    "# Aplico la función a toda la columna\n",
    "df['episode'] = df['episode'].apply(lambda x: [int(ep.split('/')[-1]) for ep in x])"
   ]
  },
  {
   "cell_type": "code",
   "execution_count": 18,
   "metadata": {},
   "outputs": [
    {
     "data": {
      "text/html": [
       "<div>\n",
       "<style scoped>\n",
       "    .dataframe tbody tr th:only-of-type {\n",
       "        vertical-align: middle;\n",
       "    }\n",
       "\n",
       "    .dataframe tbody tr th {\n",
       "        vertical-align: top;\n",
       "    }\n",
       "\n",
       "    .dataframe thead th {\n",
       "        text-align: right;\n",
       "    }\n",
       "</style>\n",
       "<table border=\"1\" class=\"dataframe\">\n",
       "  <thead>\n",
       "    <tr style=\"text-align: right;\">\n",
       "      <th></th>\n",
       "      <th>id</th>\n",
       "      <th>name</th>\n",
       "      <th>status</th>\n",
       "      <th>species</th>\n",
       "      <th>type</th>\n",
       "      <th>gender</th>\n",
       "      <th>origin</th>\n",
       "      <th>location</th>\n",
       "      <th>episode</th>\n",
       "    </tr>\n",
       "  </thead>\n",
       "  <tbody>\n",
       "    <tr>\n",
       "      <th>0</th>\n",
       "      <td>1</td>\n",
       "      <td>Rick Sanchez</td>\n",
       "      <td>Alive</td>\n",
       "      <td>Human</td>\n",
       "      <td></td>\n",
       "      <td>Male</td>\n",
       "      <td>Earth (C-137)</td>\n",
       "      <td>Citadel of Ricks</td>\n",
       "      <td>[1, 2, 3, 4, 5, 6, 7, 8, 9, 10, 11, 12, 13, 14...</td>\n",
       "    </tr>\n",
       "    <tr>\n",
       "      <th>1</th>\n",
       "      <td>2</td>\n",
       "      <td>Morty Smith</td>\n",
       "      <td>Alive</td>\n",
       "      <td>Human</td>\n",
       "      <td></td>\n",
       "      <td>Male</td>\n",
       "      <td>unknown</td>\n",
       "      <td>Citadel of Ricks</td>\n",
       "      <td>[1, 2, 3, 4, 5, 6, 7, 8, 9, 10, 11, 12, 13, 14...</td>\n",
       "    </tr>\n",
       "    <tr>\n",
       "      <th>2</th>\n",
       "      <td>3</td>\n",
       "      <td>Summer Smith</td>\n",
       "      <td>Alive</td>\n",
       "      <td>Human</td>\n",
       "      <td></td>\n",
       "      <td>Female</td>\n",
       "      <td>Earth (Replacement Dimension)</td>\n",
       "      <td>Earth (Replacement Dimension)</td>\n",
       "      <td>[6, 7, 8, 9, 10, 11, 12, 14, 15, 16, 17, 18, 1...</td>\n",
       "    </tr>\n",
       "    <tr>\n",
       "      <th>3</th>\n",
       "      <td>4</td>\n",
       "      <td>Beth Smith</td>\n",
       "      <td>Alive</td>\n",
       "      <td>Human</td>\n",
       "      <td></td>\n",
       "      <td>Female</td>\n",
       "      <td>Earth (Replacement Dimension)</td>\n",
       "      <td>Earth (Replacement Dimension)</td>\n",
       "      <td>[6, 7, 8, 9, 10, 11, 12, 14, 15, 16, 18, 19, 2...</td>\n",
       "    </tr>\n",
       "    <tr>\n",
       "      <th>4</th>\n",
       "      <td>5</td>\n",
       "      <td>Jerry Smith</td>\n",
       "      <td>Alive</td>\n",
       "      <td>Human</td>\n",
       "      <td></td>\n",
       "      <td>Male</td>\n",
       "      <td>Earth (Replacement Dimension)</td>\n",
       "      <td>Earth (Replacement Dimension)</td>\n",
       "      <td>[6, 7, 8, 9, 10, 11, 12, 13, 14, 15, 16, 18, 1...</td>\n",
       "    </tr>\n",
       "    <tr>\n",
       "      <th>5</th>\n",
       "      <td>6</td>\n",
       "      <td>Abadango Cluster Princess</td>\n",
       "      <td>Alive</td>\n",
       "      <td>Alien</td>\n",
       "      <td></td>\n",
       "      <td>Female</td>\n",
       "      <td>Abadango</td>\n",
       "      <td>Abadango</td>\n",
       "      <td>[27]</td>\n",
       "    </tr>\n",
       "    <tr>\n",
       "      <th>6</th>\n",
       "      <td>7</td>\n",
       "      <td>Abradolf Lincler</td>\n",
       "      <td>unknown</td>\n",
       "      <td>Human</td>\n",
       "      <td>Genetic experiment</td>\n",
       "      <td>Male</td>\n",
       "      <td>Earth (Replacement Dimension)</td>\n",
       "      <td>Testicle Monster Dimension</td>\n",
       "      <td>[10, 11]</td>\n",
       "    </tr>\n",
       "    <tr>\n",
       "      <th>7</th>\n",
       "      <td>8</td>\n",
       "      <td>Adjudicator Rick</td>\n",
       "      <td>Dead</td>\n",
       "      <td>Human</td>\n",
       "      <td></td>\n",
       "      <td>Male</td>\n",
       "      <td>unknown</td>\n",
       "      <td>Citadel of Ricks</td>\n",
       "      <td>[28]</td>\n",
       "    </tr>\n",
       "    <tr>\n",
       "      <th>8</th>\n",
       "      <td>9</td>\n",
       "      <td>Agency Director</td>\n",
       "      <td>Dead</td>\n",
       "      <td>Human</td>\n",
       "      <td></td>\n",
       "      <td>Male</td>\n",
       "      <td>Earth (Replacement Dimension)</td>\n",
       "      <td>Earth (Replacement Dimension)</td>\n",
       "      <td>[24]</td>\n",
       "    </tr>\n",
       "    <tr>\n",
       "      <th>9</th>\n",
       "      <td>10</td>\n",
       "      <td>Alan Rails</td>\n",
       "      <td>Dead</td>\n",
       "      <td>Human</td>\n",
       "      <td>Superhuman (Ghost trains summoner)</td>\n",
       "      <td>Male</td>\n",
       "      <td>unknown</td>\n",
       "      <td>Worldender's lair</td>\n",
       "      <td>[25]</td>\n",
       "    </tr>\n",
       "  </tbody>\n",
       "</table>\n",
       "</div>"
      ],
      "text/plain": [
       "   id                       name   status species  \\\n",
       "0   1               Rick Sanchez    Alive   Human   \n",
       "1   2                Morty Smith    Alive   Human   \n",
       "2   3               Summer Smith    Alive   Human   \n",
       "3   4                 Beth Smith    Alive   Human   \n",
       "4   5                Jerry Smith    Alive   Human   \n",
       "5   6  Abadango Cluster Princess    Alive   Alien   \n",
       "6   7           Abradolf Lincler  unknown   Human   \n",
       "7   8           Adjudicator Rick     Dead   Human   \n",
       "8   9            Agency Director     Dead   Human   \n",
       "9  10                 Alan Rails     Dead   Human   \n",
       "\n",
       "                                 type  gender                         origin  \\\n",
       "0                                        Male                  Earth (C-137)   \n",
       "1                                        Male                        unknown   \n",
       "2                                      Female  Earth (Replacement Dimension)   \n",
       "3                                      Female  Earth (Replacement Dimension)   \n",
       "4                                        Male  Earth (Replacement Dimension)   \n",
       "5                                      Female                       Abadango   \n",
       "6                  Genetic experiment    Male  Earth (Replacement Dimension)   \n",
       "7                                        Male                        unknown   \n",
       "8                                        Male  Earth (Replacement Dimension)   \n",
       "9  Superhuman (Ghost trains summoner)    Male                        unknown   \n",
       "\n",
       "                        location  \\\n",
       "0               Citadel of Ricks   \n",
       "1               Citadel of Ricks   \n",
       "2  Earth (Replacement Dimension)   \n",
       "3  Earth (Replacement Dimension)   \n",
       "4  Earth (Replacement Dimension)   \n",
       "5                       Abadango   \n",
       "6     Testicle Monster Dimension   \n",
       "7               Citadel of Ricks   \n",
       "8  Earth (Replacement Dimension)   \n",
       "9              Worldender's lair   \n",
       "\n",
       "                                             episode  \n",
       "0  [1, 2, 3, 4, 5, 6, 7, 8, 9, 10, 11, 12, 13, 14...  \n",
       "1  [1, 2, 3, 4, 5, 6, 7, 8, 9, 10, 11, 12, 13, 14...  \n",
       "2  [6, 7, 8, 9, 10, 11, 12, 14, 15, 16, 17, 18, 1...  \n",
       "3  [6, 7, 8, 9, 10, 11, 12, 14, 15, 16, 18, 19, 2...  \n",
       "4  [6, 7, 8, 9, 10, 11, 12, 13, 14, 15, 16, 18, 1...  \n",
       "5                                               [27]  \n",
       "6                                           [10, 11]  \n",
       "7                                               [28]  \n",
       "8                                               [24]  \n",
       "9                                               [25]  "
      ]
     },
     "execution_count": 18,
     "metadata": {},
     "output_type": "execute_result"
    }
   ],
   "source": [
    "# Comprobar función aplicada a la columna\n",
    "df.head(10)"
   ]
  },
  {
   "cell_type": "markdown",
   "metadata": {},
   "source": [
    "## Visualización de proporción de géneros y tamaño de las especies"
   ]
  },
  {
   "cell_type": "markdown",
   "metadata": {},
   "source": [
    "### Visualizar proporción de géneros"
   ]
  },
  {
   "cell_type": "code",
   "execution_count": 19,
   "metadata": {},
   "outputs": [
    {
     "data": {
      "application/vnd.plotly.v1+json": {
       "config": {
        "plotlyServerURL": "https://plot.ly"
       },
       "data": [
        {
         "domain": {
          "x": [
           0,
           1
          ],
          "y": [
           0,
           1
          ]
         },
         "hovertemplate": "label=%{label}<br>value=%{value}<extra></extra>",
         "labels": [
          "Male",
          "Female",
          "unknown",
          "Genderless"
         ],
         "legendgroup": "",
         "name": "",
         "showlegend": true,
         "type": "pie",
         "values": [
          625,
          152,
          50,
          19
         ]
        }
       ],
       "layout": {
        "height": 600,
        "legend": {
         "tracegroupgap": 0
        },
        "piecolorway": [
         "rgb(27,158,119)",
         "rgb(217,95,2)",
         "rgb(117,112,179)",
         "rgb(231,41,138)",
         "rgb(102,166,30)",
         "rgb(230,171,2)",
         "rgb(166,118,29)",
         "rgb(102,102,102)"
        ],
        "template": {
         "data": {
          "bar": [
           {
            "error_x": {
             "color": "#f2f5fa"
            },
            "error_y": {
             "color": "#f2f5fa"
            },
            "marker": {
             "line": {
              "color": "rgb(17,17,17)",
              "width": 0.5
             },
             "pattern": {
              "fillmode": "overlay",
              "size": 10,
              "solidity": 0.2
             }
            },
            "type": "bar"
           }
          ],
          "barpolar": [
           {
            "marker": {
             "line": {
              "color": "rgb(17,17,17)",
              "width": 0.5
             },
             "pattern": {
              "fillmode": "overlay",
              "size": 10,
              "solidity": 0.2
             }
            },
            "type": "barpolar"
           }
          ],
          "carpet": [
           {
            "aaxis": {
             "endlinecolor": "#A2B1C6",
             "gridcolor": "#506784",
             "linecolor": "#506784",
             "minorgridcolor": "#506784",
             "startlinecolor": "#A2B1C6"
            },
            "baxis": {
             "endlinecolor": "#A2B1C6",
             "gridcolor": "#506784",
             "linecolor": "#506784",
             "minorgridcolor": "#506784",
             "startlinecolor": "#A2B1C6"
            },
            "type": "carpet"
           }
          ],
          "choropleth": [
           {
            "colorbar": {
             "outlinewidth": 0,
             "ticks": ""
            },
            "type": "choropleth"
           }
          ],
          "contour": [
           {
            "colorbar": {
             "outlinewidth": 0,
             "ticks": ""
            },
            "colorscale": [
             [
              0,
              "#0d0887"
             ],
             [
              0.1111111111111111,
              "#46039f"
             ],
             [
              0.2222222222222222,
              "#7201a8"
             ],
             [
              0.3333333333333333,
              "#9c179e"
             ],
             [
              0.4444444444444444,
              "#bd3786"
             ],
             [
              0.5555555555555556,
              "#d8576b"
             ],
             [
              0.6666666666666666,
              "#ed7953"
             ],
             [
              0.7777777777777778,
              "#fb9f3a"
             ],
             [
              0.8888888888888888,
              "#fdca26"
             ],
             [
              1,
              "#f0f921"
             ]
            ],
            "type": "contour"
           }
          ],
          "contourcarpet": [
           {
            "colorbar": {
             "outlinewidth": 0,
             "ticks": ""
            },
            "type": "contourcarpet"
           }
          ],
          "heatmap": [
           {
            "colorbar": {
             "outlinewidth": 0,
             "ticks": ""
            },
            "colorscale": [
             [
              0,
              "#0d0887"
             ],
             [
              0.1111111111111111,
              "#46039f"
             ],
             [
              0.2222222222222222,
              "#7201a8"
             ],
             [
              0.3333333333333333,
              "#9c179e"
             ],
             [
              0.4444444444444444,
              "#bd3786"
             ],
             [
              0.5555555555555556,
              "#d8576b"
             ],
             [
              0.6666666666666666,
              "#ed7953"
             ],
             [
              0.7777777777777778,
              "#fb9f3a"
             ],
             [
              0.8888888888888888,
              "#fdca26"
             ],
             [
              1,
              "#f0f921"
             ]
            ],
            "type": "heatmap"
           }
          ],
          "heatmapgl": [
           {
            "colorbar": {
             "outlinewidth": 0,
             "ticks": ""
            },
            "colorscale": [
             [
              0,
              "#0d0887"
             ],
             [
              0.1111111111111111,
              "#46039f"
             ],
             [
              0.2222222222222222,
              "#7201a8"
             ],
             [
              0.3333333333333333,
              "#9c179e"
             ],
             [
              0.4444444444444444,
              "#bd3786"
             ],
             [
              0.5555555555555556,
              "#d8576b"
             ],
             [
              0.6666666666666666,
              "#ed7953"
             ],
             [
              0.7777777777777778,
              "#fb9f3a"
             ],
             [
              0.8888888888888888,
              "#fdca26"
             ],
             [
              1,
              "#f0f921"
             ]
            ],
            "type": "heatmapgl"
           }
          ],
          "histogram": [
           {
            "marker": {
             "pattern": {
              "fillmode": "overlay",
              "size": 10,
              "solidity": 0.2
             }
            },
            "type": "histogram"
           }
          ],
          "histogram2d": [
           {
            "colorbar": {
             "outlinewidth": 0,
             "ticks": ""
            },
            "colorscale": [
             [
              0,
              "#0d0887"
             ],
             [
              0.1111111111111111,
              "#46039f"
             ],
             [
              0.2222222222222222,
              "#7201a8"
             ],
             [
              0.3333333333333333,
              "#9c179e"
             ],
             [
              0.4444444444444444,
              "#bd3786"
             ],
             [
              0.5555555555555556,
              "#d8576b"
             ],
             [
              0.6666666666666666,
              "#ed7953"
             ],
             [
              0.7777777777777778,
              "#fb9f3a"
             ],
             [
              0.8888888888888888,
              "#fdca26"
             ],
             [
              1,
              "#f0f921"
             ]
            ],
            "type": "histogram2d"
           }
          ],
          "histogram2dcontour": [
           {
            "colorbar": {
             "outlinewidth": 0,
             "ticks": ""
            },
            "colorscale": [
             [
              0,
              "#0d0887"
             ],
             [
              0.1111111111111111,
              "#46039f"
             ],
             [
              0.2222222222222222,
              "#7201a8"
             ],
             [
              0.3333333333333333,
              "#9c179e"
             ],
             [
              0.4444444444444444,
              "#bd3786"
             ],
             [
              0.5555555555555556,
              "#d8576b"
             ],
             [
              0.6666666666666666,
              "#ed7953"
             ],
             [
              0.7777777777777778,
              "#fb9f3a"
             ],
             [
              0.8888888888888888,
              "#fdca26"
             ],
             [
              1,
              "#f0f921"
             ]
            ],
            "type": "histogram2dcontour"
           }
          ],
          "mesh3d": [
           {
            "colorbar": {
             "outlinewidth": 0,
             "ticks": ""
            },
            "type": "mesh3d"
           }
          ],
          "parcoords": [
           {
            "line": {
             "colorbar": {
              "outlinewidth": 0,
              "ticks": ""
             }
            },
            "type": "parcoords"
           }
          ],
          "pie": [
           {
            "automargin": true,
            "type": "pie"
           }
          ],
          "scatter": [
           {
            "marker": {
             "line": {
              "color": "#283442"
             }
            },
            "type": "scatter"
           }
          ],
          "scatter3d": [
           {
            "line": {
             "colorbar": {
              "outlinewidth": 0,
              "ticks": ""
             }
            },
            "marker": {
             "colorbar": {
              "outlinewidth": 0,
              "ticks": ""
             }
            },
            "type": "scatter3d"
           }
          ],
          "scattercarpet": [
           {
            "marker": {
             "colorbar": {
              "outlinewidth": 0,
              "ticks": ""
             }
            },
            "type": "scattercarpet"
           }
          ],
          "scattergeo": [
           {
            "marker": {
             "colorbar": {
              "outlinewidth": 0,
              "ticks": ""
             }
            },
            "type": "scattergeo"
           }
          ],
          "scattergl": [
           {
            "marker": {
             "line": {
              "color": "#283442"
             }
            },
            "type": "scattergl"
           }
          ],
          "scattermapbox": [
           {
            "marker": {
             "colorbar": {
              "outlinewidth": 0,
              "ticks": ""
             }
            },
            "type": "scattermapbox"
           }
          ],
          "scatterpolar": [
           {
            "marker": {
             "colorbar": {
              "outlinewidth": 0,
              "ticks": ""
             }
            },
            "type": "scatterpolar"
           }
          ],
          "scatterpolargl": [
           {
            "marker": {
             "colorbar": {
              "outlinewidth": 0,
              "ticks": ""
             }
            },
            "type": "scatterpolargl"
           }
          ],
          "scatterternary": [
           {
            "marker": {
             "colorbar": {
              "outlinewidth": 0,
              "ticks": ""
             }
            },
            "type": "scatterternary"
           }
          ],
          "surface": [
           {
            "colorbar": {
             "outlinewidth": 0,
             "ticks": ""
            },
            "colorscale": [
             [
              0,
              "#0d0887"
             ],
             [
              0.1111111111111111,
              "#46039f"
             ],
             [
              0.2222222222222222,
              "#7201a8"
             ],
             [
              0.3333333333333333,
              "#9c179e"
             ],
             [
              0.4444444444444444,
              "#bd3786"
             ],
             [
              0.5555555555555556,
              "#d8576b"
             ],
             [
              0.6666666666666666,
              "#ed7953"
             ],
             [
              0.7777777777777778,
              "#fb9f3a"
             ],
             [
              0.8888888888888888,
              "#fdca26"
             ],
             [
              1,
              "#f0f921"
             ]
            ],
            "type": "surface"
           }
          ],
          "table": [
           {
            "cells": {
             "fill": {
              "color": "#506784"
             },
             "line": {
              "color": "rgb(17,17,17)"
             }
            },
            "header": {
             "fill": {
              "color": "#2a3f5f"
             },
             "line": {
              "color": "rgb(17,17,17)"
             }
            },
            "type": "table"
           }
          ]
         },
         "layout": {
          "annotationdefaults": {
           "arrowcolor": "#f2f5fa",
           "arrowhead": 0,
           "arrowwidth": 1
          },
          "autotypenumbers": "strict",
          "coloraxis": {
           "colorbar": {
            "outlinewidth": 0,
            "ticks": ""
           }
          },
          "colorscale": {
           "diverging": [
            [
             0,
             "#8e0152"
            ],
            [
             0.1,
             "#c51b7d"
            ],
            [
             0.2,
             "#de77ae"
            ],
            [
             0.3,
             "#f1b6da"
            ],
            [
             0.4,
             "#fde0ef"
            ],
            [
             0.5,
             "#f7f7f7"
            ],
            [
             0.6,
             "#e6f5d0"
            ],
            [
             0.7,
             "#b8e186"
            ],
            [
             0.8,
             "#7fbc41"
            ],
            [
             0.9,
             "#4d9221"
            ],
            [
             1,
             "#276419"
            ]
           ],
           "sequential": [
            [
             0,
             "#0d0887"
            ],
            [
             0.1111111111111111,
             "#46039f"
            ],
            [
             0.2222222222222222,
             "#7201a8"
            ],
            [
             0.3333333333333333,
             "#9c179e"
            ],
            [
             0.4444444444444444,
             "#bd3786"
            ],
            [
             0.5555555555555556,
             "#d8576b"
            ],
            [
             0.6666666666666666,
             "#ed7953"
            ],
            [
             0.7777777777777778,
             "#fb9f3a"
            ],
            [
             0.8888888888888888,
             "#fdca26"
            ],
            [
             1,
             "#f0f921"
            ]
           ],
           "sequentialminus": [
            [
             0,
             "#0d0887"
            ],
            [
             0.1111111111111111,
             "#46039f"
            ],
            [
             0.2222222222222222,
             "#7201a8"
            ],
            [
             0.3333333333333333,
             "#9c179e"
            ],
            [
             0.4444444444444444,
             "#bd3786"
            ],
            [
             0.5555555555555556,
             "#d8576b"
            ],
            [
             0.6666666666666666,
             "#ed7953"
            ],
            [
             0.7777777777777778,
             "#fb9f3a"
            ],
            [
             0.8888888888888888,
             "#fdca26"
            ],
            [
             1,
             "#f0f921"
            ]
           ]
          },
          "colorway": [
           "#636efa",
           "#EF553B",
           "#00cc96",
           "#ab63fa",
           "#FFA15A",
           "#19d3f3",
           "#FF6692",
           "#B6E880",
           "#FF97FF",
           "#FECB52"
          ],
          "font": {
           "color": "#f2f5fa"
          },
          "geo": {
           "bgcolor": "rgb(17,17,17)",
           "lakecolor": "rgb(17,17,17)",
           "landcolor": "rgb(17,17,17)",
           "showlakes": true,
           "showland": true,
           "subunitcolor": "#506784"
          },
          "hoverlabel": {
           "align": "left"
          },
          "hovermode": "closest",
          "mapbox": {
           "style": "dark"
          },
          "paper_bgcolor": "rgb(17,17,17)",
          "plot_bgcolor": "rgb(17,17,17)",
          "polar": {
           "angularaxis": {
            "gridcolor": "#506784",
            "linecolor": "#506784",
            "ticks": ""
           },
           "bgcolor": "rgb(17,17,17)",
           "radialaxis": {
            "gridcolor": "#506784",
            "linecolor": "#506784",
            "ticks": ""
           }
          },
          "scene": {
           "xaxis": {
            "backgroundcolor": "rgb(17,17,17)",
            "gridcolor": "#506784",
            "gridwidth": 2,
            "linecolor": "#506784",
            "showbackground": true,
            "ticks": "",
            "zerolinecolor": "#C8D4E3"
           },
           "yaxis": {
            "backgroundcolor": "rgb(17,17,17)",
            "gridcolor": "#506784",
            "gridwidth": 2,
            "linecolor": "#506784",
            "showbackground": true,
            "ticks": "",
            "zerolinecolor": "#C8D4E3"
           },
           "zaxis": {
            "backgroundcolor": "rgb(17,17,17)",
            "gridcolor": "#506784",
            "gridwidth": 2,
            "linecolor": "#506784",
            "showbackground": true,
            "ticks": "",
            "zerolinecolor": "#C8D4E3"
           }
          },
          "shapedefaults": {
           "line": {
            "color": "#f2f5fa"
           }
          },
          "sliderdefaults": {
           "bgcolor": "#C8D4E3",
           "bordercolor": "rgb(17,17,17)",
           "borderwidth": 1,
           "tickwidth": 0
          },
          "ternary": {
           "aaxis": {
            "gridcolor": "#506784",
            "linecolor": "#506784",
            "ticks": ""
           },
           "baxis": {
            "gridcolor": "#506784",
            "linecolor": "#506784",
            "ticks": ""
           },
           "bgcolor": "rgb(17,17,17)",
           "caxis": {
            "gridcolor": "#506784",
            "linecolor": "#506784",
            "ticks": ""
           }
          },
          "title": {
           "x": 0.05
          },
          "updatemenudefaults": {
           "bgcolor": "#506784",
           "borderwidth": 0
          },
          "xaxis": {
           "automargin": true,
           "gridcolor": "#283442",
           "linecolor": "#506784",
           "ticks": "",
           "title": {
            "standoff": 15
           },
           "zerolinecolor": "#283442",
           "zerolinewidth": 2
          },
          "yaxis": {
           "automargin": true,
           "gridcolor": "#283442",
           "linecolor": "#506784",
           "ticks": "",
           "title": {
            "standoff": 15
           },
           "zerolinecolor": "#283442",
           "zerolinewidth": 2
          }
         }
        },
        "title": {
         "text": "Proporción de géneros"
        },
        "width": 600
       }
      }
     },
     "metadata": {},
     "output_type": "display_data"
    }
   ],
   "source": [
    "# Contar los valores en la columna ['gender']\n",
    "conteo_genero = df['gender'].value_counts()\n",
    "\n",
    "# Crear el pie.plot con plotly\n",
    "fig = px.pie(values=conteo_genero, \n",
    "             names=conteo_genero.index, \n",
    "             title=\"Proporción de géneros\",\n",
    "             width=600,\n",
    "             height=600,\n",
    "             color_discrete_sequence = px.colors.qualitative.Dark2,\n",
    "             template=\"plotly_dark\")\n",
    "\n",
    "# Ver gráfico\n",
    "fig.show()"
   ]
  },
  {
   "cell_type": "markdown",
   "metadata": {},
   "source": [
    "### Treemap 'Tamaño de las especies'"
   ]
  },
  {
   "cell_type": "code",
   "execution_count": 20,
   "metadata": {},
   "outputs": [
    {
     "data": {
      "text/plain": [
       "Human                    381\n",
       "Alien                    210\n",
       "Humanoid                  68\n",
       "Animal                    55\n",
       "Robot                     51\n",
       "Mythological Creature     46\n",
       "unknown                   13\n",
       "Poopybutthole              8\n",
       "Cronenberg                 8\n",
       "Disease                    6\n",
       "Name: species, dtype: int64"
      ]
     },
     "execution_count": 20,
     "metadata": {},
     "output_type": "execute_result"
    }
   ],
   "source": [
    "df['species'].value_counts()"
   ]
  },
  {
   "cell_type": "code",
   "execution_count": 21,
   "metadata": {},
   "outputs": [
    {
     "data": {
      "application/vnd.plotly.v1+json": {
       "config": {
        "plotlyServerURL": "https://plot.ly"
       },
       "data": [
        {
         "branchvalues": "total",
         "domain": {
          "x": [
           0,
           1
          ],
          "y": [
           0,
           1
          ]
         },
         "hovertemplate": "labels=%{label}<br>species=%{value}<br>parent=%{parent}<br>id=%{id}<extra></extra>",
         "ids": [
          "Alien",
          "Animal",
          "Cronenberg",
          "Disease",
          "Human",
          "Humanoid",
          "Mythological Creature",
          "Poopybutthole",
          "Robot",
          "unknown"
         ],
         "labels": [
          "Alien",
          "Animal",
          "Cronenberg",
          "Disease",
          "Human",
          "Humanoid",
          "Mythological Creature",
          "Poopybutthole",
          "Robot",
          "unknown"
         ],
         "name": "",
         "parents": [
          "",
          "",
          "",
          "",
          "",
          "",
          "",
          "",
          "",
          ""
         ],
         "type": "treemap",
         "values": [
          210,
          55,
          8,
          6,
          381,
          68,
          46,
          8,
          51,
          13
         ]
        }
       ],
       "layout": {
        "height": 700,
        "legend": {
         "tracegroupgap": 0
        },
        "template": {
         "data": {
          "bar": [
           {
            "error_x": {
             "color": "#f2f5fa"
            },
            "error_y": {
             "color": "#f2f5fa"
            },
            "marker": {
             "line": {
              "color": "rgb(17,17,17)",
              "width": 0.5
             },
             "pattern": {
              "fillmode": "overlay",
              "size": 10,
              "solidity": 0.2
             }
            },
            "type": "bar"
           }
          ],
          "barpolar": [
           {
            "marker": {
             "line": {
              "color": "rgb(17,17,17)",
              "width": 0.5
             },
             "pattern": {
              "fillmode": "overlay",
              "size": 10,
              "solidity": 0.2
             }
            },
            "type": "barpolar"
           }
          ],
          "carpet": [
           {
            "aaxis": {
             "endlinecolor": "#A2B1C6",
             "gridcolor": "#506784",
             "linecolor": "#506784",
             "minorgridcolor": "#506784",
             "startlinecolor": "#A2B1C6"
            },
            "baxis": {
             "endlinecolor": "#A2B1C6",
             "gridcolor": "#506784",
             "linecolor": "#506784",
             "minorgridcolor": "#506784",
             "startlinecolor": "#A2B1C6"
            },
            "type": "carpet"
           }
          ],
          "choropleth": [
           {
            "colorbar": {
             "outlinewidth": 0,
             "ticks": ""
            },
            "type": "choropleth"
           }
          ],
          "contour": [
           {
            "colorbar": {
             "outlinewidth": 0,
             "ticks": ""
            },
            "colorscale": [
             [
              0,
              "#0d0887"
             ],
             [
              0.1111111111111111,
              "#46039f"
             ],
             [
              0.2222222222222222,
              "#7201a8"
             ],
             [
              0.3333333333333333,
              "#9c179e"
             ],
             [
              0.4444444444444444,
              "#bd3786"
             ],
             [
              0.5555555555555556,
              "#d8576b"
             ],
             [
              0.6666666666666666,
              "#ed7953"
             ],
             [
              0.7777777777777778,
              "#fb9f3a"
             ],
             [
              0.8888888888888888,
              "#fdca26"
             ],
             [
              1,
              "#f0f921"
             ]
            ],
            "type": "contour"
           }
          ],
          "contourcarpet": [
           {
            "colorbar": {
             "outlinewidth": 0,
             "ticks": ""
            },
            "type": "contourcarpet"
           }
          ],
          "heatmap": [
           {
            "colorbar": {
             "outlinewidth": 0,
             "ticks": ""
            },
            "colorscale": [
             [
              0,
              "#0d0887"
             ],
             [
              0.1111111111111111,
              "#46039f"
             ],
             [
              0.2222222222222222,
              "#7201a8"
             ],
             [
              0.3333333333333333,
              "#9c179e"
             ],
             [
              0.4444444444444444,
              "#bd3786"
             ],
             [
              0.5555555555555556,
              "#d8576b"
             ],
             [
              0.6666666666666666,
              "#ed7953"
             ],
             [
              0.7777777777777778,
              "#fb9f3a"
             ],
             [
              0.8888888888888888,
              "#fdca26"
             ],
             [
              1,
              "#f0f921"
             ]
            ],
            "type": "heatmap"
           }
          ],
          "heatmapgl": [
           {
            "colorbar": {
             "outlinewidth": 0,
             "ticks": ""
            },
            "colorscale": [
             [
              0,
              "#0d0887"
             ],
             [
              0.1111111111111111,
              "#46039f"
             ],
             [
              0.2222222222222222,
              "#7201a8"
             ],
             [
              0.3333333333333333,
              "#9c179e"
             ],
             [
              0.4444444444444444,
              "#bd3786"
             ],
             [
              0.5555555555555556,
              "#d8576b"
             ],
             [
              0.6666666666666666,
              "#ed7953"
             ],
             [
              0.7777777777777778,
              "#fb9f3a"
             ],
             [
              0.8888888888888888,
              "#fdca26"
             ],
             [
              1,
              "#f0f921"
             ]
            ],
            "type": "heatmapgl"
           }
          ],
          "histogram": [
           {
            "marker": {
             "pattern": {
              "fillmode": "overlay",
              "size": 10,
              "solidity": 0.2
             }
            },
            "type": "histogram"
           }
          ],
          "histogram2d": [
           {
            "colorbar": {
             "outlinewidth": 0,
             "ticks": ""
            },
            "colorscale": [
             [
              0,
              "#0d0887"
             ],
             [
              0.1111111111111111,
              "#46039f"
             ],
             [
              0.2222222222222222,
              "#7201a8"
             ],
             [
              0.3333333333333333,
              "#9c179e"
             ],
             [
              0.4444444444444444,
              "#bd3786"
             ],
             [
              0.5555555555555556,
              "#d8576b"
             ],
             [
              0.6666666666666666,
              "#ed7953"
             ],
             [
              0.7777777777777778,
              "#fb9f3a"
             ],
             [
              0.8888888888888888,
              "#fdca26"
             ],
             [
              1,
              "#f0f921"
             ]
            ],
            "type": "histogram2d"
           }
          ],
          "histogram2dcontour": [
           {
            "colorbar": {
             "outlinewidth": 0,
             "ticks": ""
            },
            "colorscale": [
             [
              0,
              "#0d0887"
             ],
             [
              0.1111111111111111,
              "#46039f"
             ],
             [
              0.2222222222222222,
              "#7201a8"
             ],
             [
              0.3333333333333333,
              "#9c179e"
             ],
             [
              0.4444444444444444,
              "#bd3786"
             ],
             [
              0.5555555555555556,
              "#d8576b"
             ],
             [
              0.6666666666666666,
              "#ed7953"
             ],
             [
              0.7777777777777778,
              "#fb9f3a"
             ],
             [
              0.8888888888888888,
              "#fdca26"
             ],
             [
              1,
              "#f0f921"
             ]
            ],
            "type": "histogram2dcontour"
           }
          ],
          "mesh3d": [
           {
            "colorbar": {
             "outlinewidth": 0,
             "ticks": ""
            },
            "type": "mesh3d"
           }
          ],
          "parcoords": [
           {
            "line": {
             "colorbar": {
              "outlinewidth": 0,
              "ticks": ""
             }
            },
            "type": "parcoords"
           }
          ],
          "pie": [
           {
            "automargin": true,
            "type": "pie"
           }
          ],
          "scatter": [
           {
            "marker": {
             "line": {
              "color": "#283442"
             }
            },
            "type": "scatter"
           }
          ],
          "scatter3d": [
           {
            "line": {
             "colorbar": {
              "outlinewidth": 0,
              "ticks": ""
             }
            },
            "marker": {
             "colorbar": {
              "outlinewidth": 0,
              "ticks": ""
             }
            },
            "type": "scatter3d"
           }
          ],
          "scattercarpet": [
           {
            "marker": {
             "colorbar": {
              "outlinewidth": 0,
              "ticks": ""
             }
            },
            "type": "scattercarpet"
           }
          ],
          "scattergeo": [
           {
            "marker": {
             "colorbar": {
              "outlinewidth": 0,
              "ticks": ""
             }
            },
            "type": "scattergeo"
           }
          ],
          "scattergl": [
           {
            "marker": {
             "line": {
              "color": "#283442"
             }
            },
            "type": "scattergl"
           }
          ],
          "scattermapbox": [
           {
            "marker": {
             "colorbar": {
              "outlinewidth": 0,
              "ticks": ""
             }
            },
            "type": "scattermapbox"
           }
          ],
          "scatterpolar": [
           {
            "marker": {
             "colorbar": {
              "outlinewidth": 0,
              "ticks": ""
             }
            },
            "type": "scatterpolar"
           }
          ],
          "scatterpolargl": [
           {
            "marker": {
             "colorbar": {
              "outlinewidth": 0,
              "ticks": ""
             }
            },
            "type": "scatterpolargl"
           }
          ],
          "scatterternary": [
           {
            "marker": {
             "colorbar": {
              "outlinewidth": 0,
              "ticks": ""
             }
            },
            "type": "scatterternary"
           }
          ],
          "surface": [
           {
            "colorbar": {
             "outlinewidth": 0,
             "ticks": ""
            },
            "colorscale": [
             [
              0,
              "#0d0887"
             ],
             [
              0.1111111111111111,
              "#46039f"
             ],
             [
              0.2222222222222222,
              "#7201a8"
             ],
             [
              0.3333333333333333,
              "#9c179e"
             ],
             [
              0.4444444444444444,
              "#bd3786"
             ],
             [
              0.5555555555555556,
              "#d8576b"
             ],
             [
              0.6666666666666666,
              "#ed7953"
             ],
             [
              0.7777777777777778,
              "#fb9f3a"
             ],
             [
              0.8888888888888888,
              "#fdca26"
             ],
             [
              1,
              "#f0f921"
             ]
            ],
            "type": "surface"
           }
          ],
          "table": [
           {
            "cells": {
             "fill": {
              "color": "#506784"
             },
             "line": {
              "color": "rgb(17,17,17)"
             }
            },
            "header": {
             "fill": {
              "color": "#2a3f5f"
             },
             "line": {
              "color": "rgb(17,17,17)"
             }
            },
            "type": "table"
           }
          ]
         },
         "layout": {
          "annotationdefaults": {
           "arrowcolor": "#f2f5fa",
           "arrowhead": 0,
           "arrowwidth": 1
          },
          "autotypenumbers": "strict",
          "coloraxis": {
           "colorbar": {
            "outlinewidth": 0,
            "ticks": ""
           }
          },
          "colorscale": {
           "diverging": [
            [
             0,
             "#8e0152"
            ],
            [
             0.1,
             "#c51b7d"
            ],
            [
             0.2,
             "#de77ae"
            ],
            [
             0.3,
             "#f1b6da"
            ],
            [
             0.4,
             "#fde0ef"
            ],
            [
             0.5,
             "#f7f7f7"
            ],
            [
             0.6,
             "#e6f5d0"
            ],
            [
             0.7,
             "#b8e186"
            ],
            [
             0.8,
             "#7fbc41"
            ],
            [
             0.9,
             "#4d9221"
            ],
            [
             1,
             "#276419"
            ]
           ],
           "sequential": [
            [
             0,
             "#0d0887"
            ],
            [
             0.1111111111111111,
             "#46039f"
            ],
            [
             0.2222222222222222,
             "#7201a8"
            ],
            [
             0.3333333333333333,
             "#9c179e"
            ],
            [
             0.4444444444444444,
             "#bd3786"
            ],
            [
             0.5555555555555556,
             "#d8576b"
            ],
            [
             0.6666666666666666,
             "#ed7953"
            ],
            [
             0.7777777777777778,
             "#fb9f3a"
            ],
            [
             0.8888888888888888,
             "#fdca26"
            ],
            [
             1,
             "#f0f921"
            ]
           ],
           "sequentialminus": [
            [
             0,
             "#0d0887"
            ],
            [
             0.1111111111111111,
             "#46039f"
            ],
            [
             0.2222222222222222,
             "#7201a8"
            ],
            [
             0.3333333333333333,
             "#9c179e"
            ],
            [
             0.4444444444444444,
             "#bd3786"
            ],
            [
             0.5555555555555556,
             "#d8576b"
            ],
            [
             0.6666666666666666,
             "#ed7953"
            ],
            [
             0.7777777777777778,
             "#fb9f3a"
            ],
            [
             0.8888888888888888,
             "#fdca26"
            ],
            [
             1,
             "#f0f921"
            ]
           ]
          },
          "colorway": [
           "#636efa",
           "#EF553B",
           "#00cc96",
           "#ab63fa",
           "#FFA15A",
           "#19d3f3",
           "#FF6692",
           "#B6E880",
           "#FF97FF",
           "#FECB52"
          ],
          "font": {
           "color": "#f2f5fa"
          },
          "geo": {
           "bgcolor": "rgb(17,17,17)",
           "lakecolor": "rgb(17,17,17)",
           "landcolor": "rgb(17,17,17)",
           "showlakes": true,
           "showland": true,
           "subunitcolor": "#506784"
          },
          "hoverlabel": {
           "align": "left"
          },
          "hovermode": "closest",
          "mapbox": {
           "style": "dark"
          },
          "paper_bgcolor": "rgb(17,17,17)",
          "plot_bgcolor": "rgb(17,17,17)",
          "polar": {
           "angularaxis": {
            "gridcolor": "#506784",
            "linecolor": "#506784",
            "ticks": ""
           },
           "bgcolor": "rgb(17,17,17)",
           "radialaxis": {
            "gridcolor": "#506784",
            "linecolor": "#506784",
            "ticks": ""
           }
          },
          "scene": {
           "xaxis": {
            "backgroundcolor": "rgb(17,17,17)",
            "gridcolor": "#506784",
            "gridwidth": 2,
            "linecolor": "#506784",
            "showbackground": true,
            "ticks": "",
            "zerolinecolor": "#C8D4E3"
           },
           "yaxis": {
            "backgroundcolor": "rgb(17,17,17)",
            "gridcolor": "#506784",
            "gridwidth": 2,
            "linecolor": "#506784",
            "showbackground": true,
            "ticks": "",
            "zerolinecolor": "#C8D4E3"
           },
           "zaxis": {
            "backgroundcolor": "rgb(17,17,17)",
            "gridcolor": "#506784",
            "gridwidth": 2,
            "linecolor": "#506784",
            "showbackground": true,
            "ticks": "",
            "zerolinecolor": "#C8D4E3"
           }
          },
          "shapedefaults": {
           "line": {
            "color": "#f2f5fa"
           }
          },
          "sliderdefaults": {
           "bgcolor": "#C8D4E3",
           "bordercolor": "rgb(17,17,17)",
           "borderwidth": 1,
           "tickwidth": 0
          },
          "ternary": {
           "aaxis": {
            "gridcolor": "#506784",
            "linecolor": "#506784",
            "ticks": ""
           },
           "baxis": {
            "gridcolor": "#506784",
            "linecolor": "#506784",
            "ticks": ""
           },
           "bgcolor": "rgb(17,17,17)",
           "caxis": {
            "gridcolor": "#506784",
            "linecolor": "#506784",
            "ticks": ""
           }
          },
          "title": {
           "x": 0.05
          },
          "updatemenudefaults": {
           "bgcolor": "#506784",
           "borderwidth": 0
          },
          "xaxis": {
           "automargin": true,
           "gridcolor": "#283442",
           "linecolor": "#506784",
           "ticks": "",
           "title": {
            "standoff": 15
           },
           "zerolinecolor": "#283442",
           "zerolinewidth": 2
          },
          "yaxis": {
           "automargin": true,
           "gridcolor": "#283442",
           "linecolor": "#506784",
           "ticks": "",
           "title": {
            "standoff": 15
           },
           "zerolinecolor": "#283442",
           "zerolinewidth": 2
          }
         }
        },
        "title": {
         "text": "Tamaño de las especies"
        },
        "treemapcolorway": [
         "rgb(27,158,119)",
         "rgb(217,95,2)",
         "rgb(117,112,179)",
         "rgb(231,41,138)",
         "rgb(102,166,30)",
         "rgb(230,171,2)",
         "rgb(166,118,29)",
         "rgb(102,102,102)"
        ]
       }
      }
     },
     "metadata": {},
     "output_type": "display_data"
    }
   ],
   "source": [
    "# Crear un df de especies y su conteo\n",
    "df_especies = df['species'].value_counts().reset_index()\n",
    " \n",
    "#ahora creamos un three map\n",
    "fig = px.treemap(df_especies,\n",
    "                 path=['index'],\n",
    "                 values='species',\n",
    "                 height=700,\n",
    "                 title=\"Tamaño de las especies\",\n",
    "                 color_discrete_sequence = px.colors.qualitative.Dark2, \n",
    "                 template= 'plotly_dark')\n",
    "                \n",
    "fig.show()"
   ]
  }
 ],
 "metadata": {
  "kernelspec": {
   "display_name": "entorno",
   "language": "python",
   "name": "python3"
  },
  "language_info": {
   "codemirror_mode": {
    "name": "ipython",
    "version": 3
   },
   "file_extension": ".py",
   "mimetype": "text/x-python",
   "name": "python",
   "nbconvert_exporter": "python",
   "pygments_lexer": "ipython3",
   "version": "3.10.10"
  }
 },
 "nbformat": 4,
 "nbformat_minor": 2
}
